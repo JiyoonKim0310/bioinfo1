{
 "cells": [
  {
   "cell_type": "code",
   "execution_count": 10,
   "metadata": {},
   "outputs": [
    {
     "name": "stdout",
     "output_type": "stream",
     "text": [
      "Retrieving notices: ...working... done\n",
      "Channels:\n",
      " - defaults\n",
      " - conda-forge\n",
      " - bioconda\n",
      "Platform: linux-64\n",
      "Collecting package metadata (repodata.json): done\n",
      "Solving environment: done\n",
      "\n",
      "\n",
      "==> WARNING: A newer version of conda exists. <==\n",
      "    current version: 24.3.0\n",
      "    latest version: 24.5.0\n",
      "\n",
      "Please update conda by running\n",
      "\n",
      "    $ conda update -n base -c conda-forge conda\n",
      "\n",
      "\n",
      "\n",
      "# All requested packages already installed.\n",
      "\n"
     ]
    }
   ],
   "source": [
    "!conda install -y bedtools bioawk samtools\n"
   ]
  },
  {
   "cell_type": "code",
   "execution_count": 12,
   "metadata": {},
   "outputs": [
    {
     "name": "stdout",
     "output_type": "stream",
     "text": [
      "Collecting pysam\n",
      "  Downloading pysam-0.22.1-cp312-cp312-manylinux_2_28_x86_64.whl.metadata (1.5 kB)\n",
      "Downloading pysam-0.22.1-cp312-cp312-manylinux_2_28_x86_64.whl (25.2 MB)\n",
      "\u001b[2K   \u001b[90m━━━━━━━━━━━━━━━━━━━━━━━━━━━━━━━━━━━━━━━━\u001b[0m \u001b[32m25.2/25.2 MB\u001b[0m \u001b[31m8.8 MB/s\u001b[0m eta \u001b[36m0:00:00\u001b[0m00:01\u001b[0m00:01\u001b[0mm\n",
      "\u001b[?25hInstalling collected packages: pysam\n",
      "Successfully installed pysam-0.22.1\n"
     ]
    }
   ],
   "source": [
    "!pip install pysam"
   ]
  },
  {
   "cell_type": "code",
   "execution_count": 7,
   "metadata": {},
   "outputs": [
    {
     "name": "stdout",
     "output_type": "stream",
     "text": [
      "/home/kjy/bioinfo1/binfo1-work\n"
     ]
    }
   ],
   "source": [
    "%cd /home/kjy/bioinfo1/binfo1-work/"
   ]
  },
  {
   "cell_type": "code",
   "execution_count": 8,
   "metadata": {},
   "outputs": [],
   "source": [
    "!samtools view -b -F 4 CLIP-35L33G.bam > mapped_reads.bam"
   ]
  },
  {
   "cell_type": "code",
   "execution_count": 9,
   "metadata": {},
   "outputs": [
    {
     "name": "stdout",
     "output_type": "stream",
     "text": [
      "k�(�D����N��o6�-T�Vb�*��K[���R� ���z;Ccu���O:��\u0018�`��n�\u0019ŗ��ňF�֗k����W������\u0000\u0015+:Y1�(\u0016�\u00018\u0001\u0012\t� \u0012\u000e \t`JPF\u0010w\u0000M\u0001�\u001c�\u0003X��ړ\u0000�]X,�V�E%X\\}e���\n",
      "�V\u0012Q�\u0006O\u0000ULJH�\u0003D\n",
      "��\u0017�\u00030��ћ?i\u0003\u0005f>lO��E!(\u001d��\\{�|\u001eapi�l\u001e\u0011��M�G\u0014\u001c\u001d\\�#\u0006\u001eL�\u0013Y���w��\"\u0001���2�$�oi;�\u0014�\u0013}^����ñ�Y������\u000b�����%��Qb�n!$�a#�\u000f�9\u0000�����~�d�\u0006\u0018���e�\u0006\u0004<s�F�\u0006\u0014����\u0005\f��t:\u000b8�����9\"�\u001dA\u00120�'�pt\f\t\"��r�)E\u0002f�0�7�G�v�O\u001c���bB\u001fn��E\u0018���E2kM_$\u001f\t[\u000bs��Z\u0002[$�1$3�\u001c�\u0000پ\u0004&��Hf\u0013fR�\u0000eb2@�֒�B\u0005�Y�0�\u0001\u0012�\n",
      "�'\u0015�\u00010�\u000b\u0000\u0000\u001f\u0004\u0000\u0000\u0000\u0000\u0000�\u0006\u0000BC\u0002\u0000h4͝k�,�}���Ə}�y�3�������]���9{�\u001d��@v-�EX\u0011o�\u0000�\u0010\t\t����=q�c;\tA�`�\t��\u0002�\u0010B��\u000f���\u001b�\"\u0004H\u0011J�7$,�\u0010>\u0001�Ww�������=�0����k����_U�w}�����O�g��z�ި�����\u0003��\u001f�\u0001��Te��\"�\u0019c���G���䮿\\��&q\u0014�(�ģ4v)���y�.Oz�^�\u001e/?���O��z�7_��g^�������w?�fn>��\u000b\u0001����\u001f\u0000PD)!�\u001f:\u0001!�����\u0000�P�s)%\u000e\t\u0011ƔR�=ڕ\u0004�J���\u0001@\u001cǑ����H\u0014GQ[�\u001f+\u0000����׷\u0000W��\u0000:SƤ�\u001f|��m��\u001e\u0001�}L�����1��#<�� J�\u0007\u0004�F��>�\u0010\f�\u00120�H�Xv�\u0010�4�8����'BqG\fJ0a8;d�\u0018#\n",
      "�g?���#\u0006�h%�9d�*��1��~�\u0011Cj\u0012�͑\u001cp\u0018G���F��\u0001\u0011GQ��Zp�8��1��X,܅�<\u000f�\u0019B������\u0011�J�԰��\u001d �f37�~\u0018��\u0010\u001c`�\u0011��,I�8�\u0017�ݐ�\u0010�7m\u0019�\\0|��?�\u001b<�\u001fO��}�R���o[���z�\n",
      "6��d\u0013?�ԣ\u001e�\"��(B���7���\u0001�g*4�\u001e�U�ш��$Qu4;��g'�\u000ehx*S!O����it��L��\u00108A\\�!{�9�\u001bJ1�\u0014�VJq�)�\u001bd\u0013\u001d�V��I�`����P\u0014y4�c\u001a��Cǔ�(Wc/��Hō�m��b��D�fx~�'�J�b���Ȅ�,KN�D�W��:p;v���I����\u000b�\n",
      "��0U��j�'i�2���\u001dڥ���eL���!�\u0011��!�{�x\u0018��a�H\u001c��+\u001c��4�j�����q�i!���л���\u000bU�;�\"�\"�3\u0001(O@����\u0007�v$\u001d���\u001baju\u0007�\u0014��b��\f�C\u0012���H����\u0002'�7��]��§w��ˢ�<��-דU���L�k�\\\u000en�\u0014wU\u0014\u0017'\u000f-\u0015�X�8�\\ٍ��=:&ۣ��y��\t#�\u0013T\u0001\t����\u0012�\u0011B����\u0012J\u0010|0��\u0004�\u0007\n",
      "�(��|A�s�\u0007��w٥{�pΥ�z�Q�7ٌ���z�\\=A󙳸��^�0�p�Å}�����f��2\u0004�\u0018�x�\u000e\u0011��Hha_��]����O�����4z�)fR��%y��&����~2��dAɜ 8f\u0016���T~��]�߶\u0016���B�\u0002�\u0007\u0018���!Dg\u00112nR��\u001a\u0004ؾ\u0014�� �\u0010`�x'\u0010���`\u0012���\u000e!*>4���\u0002~y\n",
      "��6\u0000\u0017ձq�<���\u0004i�e�ձ\f*�2�Ֆ��\u0015��Y\u0002�r.\u0013��-C\u0014�\u0018S\u001a�\u0011�]Ym\u0010ʛݏK!\\�܆S)M��z�\u000f�\u0018l��d\u0019l�\tZM�bA�����<G�\u0018� �`u@+m��C\u0018��J�F�:��z���r����d\u0005gx\u0016���h�$��\u0001�4\f�̤��������G$�i#X\u001d\u000f\u001a\u000e�\u0019�/���`�\u0006��sg�\u001d�\u0002B�-O�\u001d��r��\u000bu�r��q�U��ܬW�f\u00000OB�]��OTu)����t\u001a\u001c..Rɓ�\u000e'��0�1)�\f\n",
      "�\u001cgްX\u001a����k�z���`Կ���\u0000��O�!B\"������\u001e�i�\u001a�\u001d\u001b$G,�Y�T\u000b������\u0019�r��z9�,��e�В)u�%�їBe:`�Z��xR.5A��d�gY�\u0001e�n�(u1�ȃ���m`�^Y\u000bBjY��g�L�e\tC↰}l$\u0017�;�a�G۲�6ć�n[7�\u0010���mnH�\u0007������O�ػ�H��`\u0014F;��w���@��_\u0005�\u000fZ3f|\u001a�)����a��W�u|s3Z����j?�B�ȍ^H�\u0012�M*�((] X\u0001P\t<�\"����\u0014��km(\u0018\u0013,�IN1�܍6�ft[�آ\u0018��KT�,��+\u000fJ��d\t7����\u001a�e\u0017\u0014Fr��:Y�ݏ�ʫ�#\n"
     ]
    }
   ],
   "source": [
    "!head mapped_reads.bam"
   ]
  }
 ],
 "metadata": {
  "kernelspec": {
   "display_name": "kjy",
   "language": "python",
   "name": "python3"
  },
  "language_info": {
   "codemirror_mode": {
    "name": "ipython",
    "version": 3
   },
   "file_extension": ".py",
   "mimetype": "text/x-python",
   "name": "python",
   "nbconvert_exporter": "python",
   "pygments_lexer": "ipython3",
   "version": "3.12.3"
  }
 },
 "nbformat": 4,
 "nbformat_minor": 2
}
